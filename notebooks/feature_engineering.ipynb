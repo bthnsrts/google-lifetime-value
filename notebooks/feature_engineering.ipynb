{
 "cells": [
  {
   "cell_type": "markdown",
   "metadata": {},
   "source": [
    "# Feature Engineering\n",
    "\n",
    "This notebook processes transaction data to create customer-level features for LTV prediction."
   ]
  },
  {
   "cell_type": "code",
   "execution_count": 7,
   "metadata": {},
   "outputs": [
    {
     "name": "stderr",
     "output_type": "stream",
     "text": [
      "2025-09-18 19:44:17,797 - INFO - Logging initialized. Log file: /Users/batuhansaritas/Desktop/repositories/google-lifetime-value/notebooks/logs/feature_engineering_2025.09.18_19:44:17.log\n"
     ]
    },
    {
     "name": "stdout",
     "output_type": "stream",
     "text": [
      "Will process these companies: [10000, 101200010, 101410010, 101600010, 102100020, 102700020, 102840020, 103000030, 103338333, 103400030, 103600030, 103700030, 103800030, 104300040, 104400040, 104470040, 104900040, 105100050, 105150050, 107800070]\n"
     ]
    }
   ],
   "source": [
    "import os\n",
    "import pandas as pd\n",
    "import numpy as np\n",
    "from pathlib import Path\n",
    "\n",
    "# Add the src directory to Python path\n",
    "repo_root = Path().resolve()\n",
    "sys.path.append(str(repo_root))\n",
    "\n",
    "from src.google_lifetime_value.utils.logger import setup_logger\n",
    "from src.google_lifetime_value.preprocess.preprocess_transactions import process\n",
    "from src.google_lifetime_value.utils.config_utils import get_active_companies, get_config\n",
    "\n",
    "# Initialize logger\n",
    "logger = setup_logger('feature_engineering')\n",
    "\n",
    "# Define companies\n",
    "COMPANYS = get_active_companies()\n",
    "\n",
    "print(f\"Will process these companies: {COMPANYS}\")"
   ]
  },
  {
   "cell_type": "markdown",
   "metadata": {},
   "source": [
    "## 1. Process Companies to Generate Customer Features"
   ]
  },
  {
   "cell_type": "code",
   "execution_count": 4,
   "metadata": {},
   "outputs": [
    {
     "name": "stderr",
     "output_type": "stream",
     "text": [
      "2025-09-18 19:26:37,620 - INFO - Processing company 10000...\n",
      "2025-09-18 19:26:37,621 - INFO - Processing company 10000\n",
      "2025-09-18 19:26:37,623 - INFO - Loading existing filtered data for company 10000 from /Users/batuhansaritas/Desktop/repositories/google-lifetime-value/notebooks/data/processed/transactions/transactions_company_10000.csv\n",
      "2025-09-18 19:26:40,032 - INFO - Loaded 7964915 transactions for company 10000\n",
      "2025-09-18 19:26:52,320 - INFO - Customer data saved to: /Users/batuhansaritas/Desktop/repositories/google-lifetime-value/notebooks/data/processed/customers/customer_level_data_company_10000.csv\n",
      "2025-09-18 19:26:52,349 - INFO - Processing company 101200010...\n",
      "2025-09-18 19:26:52,349 - INFO - Processing company 101200010\n",
      "2025-09-18 19:26:52,349 - INFO - Loading existing filtered data for company 101200010 from /Users/batuhansaritas/Desktop/repositories/google-lifetime-value/notebooks/data/processed/transactions/transactions_company_101200010.csv\n"
     ]
    },
    {
     "name": "stdout",
     "output_type": "stream",
     "text": [
      "✅ Completed company 10000 - 234385 customers\n"
     ]
    },
    {
     "name": "stderr",
     "output_type": "stream",
     "text": [
      "2025-09-18 19:26:53,476 - INFO - Loaded 3585166 transactions for company 101200010\n",
      "2025-09-18 19:27:09,317 - INFO - Customer data saved to: /Users/batuhansaritas/Desktop/repositories/google-lifetime-value/notebooks/data/processed/customers/customer_level_data_company_101200010.csv\n",
      "2025-09-18 19:27:09,339 - INFO - Processing company 101410010...\n",
      "2025-09-18 19:27:09,340 - INFO - Processing company 101410010\n",
      "2025-09-18 19:27:09,340 - INFO - Loading existing filtered data for company 101410010 from /Users/batuhansaritas/Desktop/repositories/google-lifetime-value/notebooks/data/processed/transactions/transactions_company_101410010.csv\n"
     ]
    },
    {
     "name": "stdout",
     "output_type": "stream",
     "text": [
      "✅ Completed company 101200010 - 230029 customers\n"
     ]
    },
    {
     "name": "stderr",
     "output_type": "stream",
     "text": [
      "2025-09-18 19:27:09,951 - INFO - Loaded 1980175 transactions for company 101410010\n",
      "2025-09-18 19:27:20,657 - INFO - Customer data saved to: /Users/batuhansaritas/Desktop/repositories/google-lifetime-value/notebooks/data/processed/customers/customer_level_data_company_101410010.csv\n",
      "2025-09-18 19:27:20,668 - INFO - Processing company 101600010...\n",
      "2025-09-18 19:27:20,668 - INFO - Processing company 101600010\n",
      "2025-09-18 19:27:20,669 - INFO - Loading existing filtered data for company 101600010 from /Users/batuhansaritas/Desktop/repositories/google-lifetime-value/notebooks/data/processed/transactions/transactions_company_101600010.csv\n"
     ]
    },
    {
     "name": "stdout",
     "output_type": "stream",
     "text": [
      "✅ Completed company 101410010 - 226295 customers\n"
     ]
    },
    {
     "name": "stderr",
     "output_type": "stream",
     "text": [
      "2025-09-18 19:27:22,358 - INFO - Loaded 5310050 transactions for company 101600010\n",
      "2025-09-18 19:27:43,598 - INFO - Customer data saved to: /Users/batuhansaritas/Desktop/repositories/google-lifetime-value/notebooks/data/processed/customers/customer_level_data_company_101600010.csv\n",
      "2025-09-18 19:27:43,622 - INFO - Processing company 102100020...\n",
      "2025-09-18 19:27:43,623 - INFO - Processing company 102100020\n",
      "2025-09-18 19:27:43,624 - INFO - Loading existing filtered data for company 102100020 from /Users/batuhansaritas/Desktop/repositories/google-lifetime-value/notebooks/data/processed/transactions/transactions_company_102100020.csv\n"
     ]
    },
    {
     "name": "stdout",
     "output_type": "stream",
     "text": [
      "✅ Completed company 101600010 - 278178 customers\n"
     ]
    },
    {
     "name": "stderr",
     "output_type": "stream",
     "text": [
      "2025-09-18 19:27:45,173 - INFO - Loaded 5063295 transactions for company 102100020\n",
      "2025-09-18 19:28:05,076 - INFO - Customer data saved to: /Users/batuhansaritas/Desktop/repositories/google-lifetime-value/notebooks/data/processed/customers/customer_level_data_company_102100020.csv\n",
      "2025-09-18 19:28:05,111 - INFO - Processing company 102700020...\n",
      "2025-09-18 19:28:05,111 - INFO - Processing company 102700020\n",
      "2025-09-18 19:28:05,112 - INFO - Loading existing filtered data for company 102700020 from /Users/batuhansaritas/Desktop/repositories/google-lifetime-value/notebooks/data/processed/transactions/transactions_company_102700020.csv\n"
     ]
    },
    {
     "name": "stdout",
     "output_type": "stream",
     "text": [
      "✅ Completed company 102100020 - 277575 customers\n"
     ]
    },
    {
     "name": "stderr",
     "output_type": "stream",
     "text": [
      "2025-09-18 19:28:05,628 - INFO - Loaded 1644653 transactions for company 102700020\n",
      "2025-09-18 19:28:16,379 - INFO - Customer data saved to: /Users/batuhansaritas/Desktop/repositories/google-lifetime-value/notebooks/data/processed/customers/customer_level_data_company_102700020.csv\n",
      "2025-09-18 19:28:16,391 - INFO - Processing company 102840020...\n",
      "2025-09-18 19:28:16,392 - INFO - Processing company 102840020\n",
      "2025-09-18 19:28:16,392 - INFO - Loading existing filtered data for company 102840020 from /Users/batuhansaritas/Desktop/repositories/google-lifetime-value/notebooks/data/processed/transactions/transactions_company_102840020.csv\n"
     ]
    },
    {
     "name": "stdout",
     "output_type": "stream",
     "text": [
      "✅ Completed company 102700020 - 230393 customers\n"
     ]
    },
    {
     "name": "stderr",
     "output_type": "stream",
     "text": [
      "2025-09-18 19:28:18,846 - INFO - Loaded 6053407 transactions for company 102840020\n",
      "2025-09-18 19:28:44,375 - INFO - Customer data saved to: /Users/batuhansaritas/Desktop/repositories/google-lifetime-value/notebooks/data/processed/customers/customer_level_data_company_102840020.csv\n",
      "2025-09-18 19:28:44,420 - INFO - Processing company 103000030...\n",
      "2025-09-18 19:28:44,421 - INFO - Processing company 103000030\n",
      "2025-09-18 19:28:44,421 - INFO - Loading existing filtered data for company 103000030 from /Users/batuhansaritas/Desktop/repositories/google-lifetime-value/notebooks/data/processed/transactions/transactions_company_103000030.csv\n"
     ]
    },
    {
     "name": "stdout",
     "output_type": "stream",
     "text": [
      "✅ Completed company 102840020 - 278596 customers\n"
     ]
    },
    {
     "name": "stderr",
     "output_type": "stream",
     "text": [
      "2025-09-18 19:28:45,096 - INFO - Loaded 2105498 transactions for company 103000030\n",
      "2025-09-18 19:28:56,538 - INFO - Customer data saved to: /Users/batuhansaritas/Desktop/repositories/google-lifetime-value/notebooks/data/processed/customers/customer_level_data_company_103000030.csv\n",
      "2025-09-18 19:28:56,552 - INFO - Processing company 103338333...\n",
      "2025-09-18 19:28:56,552 - INFO - Processing company 103338333\n",
      "2025-09-18 19:28:56,553 - INFO - Loading existing filtered data for company 103338333 from /Users/batuhansaritas/Desktop/repositories/google-lifetime-value/notebooks/data/processed/transactions/transactions_company_103338333.csv\n"
     ]
    },
    {
     "name": "stdout",
     "output_type": "stream",
     "text": [
      "✅ Completed company 103000030 - 235548 customers\n"
     ]
    },
    {
     "name": "stderr",
     "output_type": "stream",
     "text": [
      "2025-09-18 19:28:57,954 - INFO - Loaded 4282458 transactions for company 103338333\n",
      "2025-09-18 19:29:16,408 - INFO - Customer data saved to: /Users/batuhansaritas/Desktop/repositories/google-lifetime-value/notebooks/data/processed/customers/customer_level_data_company_103338333.csv\n",
      "2025-09-18 19:29:16,446 - INFO - Processing company 103400030...\n",
      "2025-09-18 19:29:16,447 - INFO - Processing company 103400030\n",
      "2025-09-18 19:29:16,447 - INFO - Loading existing filtered data for company 103400030 from /Users/batuhansaritas/Desktop/repositories/google-lifetime-value/notebooks/data/processed/transactions/transactions_company_103400030.csv\n"
     ]
    },
    {
     "name": "stdout",
     "output_type": "stream",
     "text": [
      "✅ Completed company 103338333 - 264431 customers\n"
     ]
    },
    {
     "name": "stderr",
     "output_type": "stream",
     "text": [
      "2025-09-18 19:29:17,358 - INFO - Loaded 2953185 transactions for company 103400030\n",
      "2025-09-18 19:29:31,872 - INFO - Customer data saved to: /Users/batuhansaritas/Desktop/repositories/google-lifetime-value/notebooks/data/processed/customers/customer_level_data_company_103400030.csv\n",
      "2025-09-18 19:29:31,888 - INFO - Processing company 103600030...\n",
      "2025-09-18 19:29:31,888 - INFO - Processing company 103600030\n",
      "2025-09-18 19:29:31,889 - INFO - Loading existing filtered data for company 103600030 from /Users/batuhansaritas/Desktop/repositories/google-lifetime-value/notebooks/data/processed/transactions/transactions_company_103600030.csv\n"
     ]
    },
    {
     "name": "stdout",
     "output_type": "stream",
     "text": [
      "✅ Completed company 103400030 - 264887 customers\n"
     ]
    },
    {
     "name": "stderr",
     "output_type": "stream",
     "text": [
      "2025-09-18 19:29:32,431 - INFO - Loaded 1807676 transactions for company 103600030\n",
      "2025-09-18 19:29:42,595 - INFO - Customer data saved to: /Users/batuhansaritas/Desktop/repositories/google-lifetime-value/notebooks/data/processed/customers/customer_level_data_company_103600030.csv\n",
      "2025-09-18 19:29:42,606 - INFO - Processing company 103700030...\n",
      "2025-09-18 19:29:42,606 - INFO - Processing company 103700030\n",
      "2025-09-18 19:29:42,607 - INFO - Loading existing filtered data for company 103700030 from /Users/batuhansaritas/Desktop/repositories/google-lifetime-value/notebooks/data/processed/transactions/transactions_company_103700030.csv\n"
     ]
    },
    {
     "name": "stdout",
     "output_type": "stream",
     "text": [
      "✅ Completed company 103600030 - 225182 customers\n"
     ]
    },
    {
     "name": "stderr",
     "output_type": "stream",
     "text": [
      "2025-09-18 19:29:45,012 - INFO - Loaded 5643063 transactions for company 103700030\n",
      "2025-09-18 19:30:08,553 - INFO - Customer data saved to: /Users/batuhansaritas/Desktop/repositories/google-lifetime-value/notebooks/data/processed/customers/customer_level_data_company_103700030.csv\n",
      "2025-09-18 19:30:08,593 - INFO - Processing company 103800030...\n",
      "2025-09-18 19:30:08,594 - INFO - Processing company 103800030\n",
      "2025-09-18 19:30:08,595 - INFO - Loading existing filtered data for company 103800030 from /Users/batuhansaritas/Desktop/repositories/google-lifetime-value/notebooks/data/processed/transactions/transactions_company_103800030.csv\n"
     ]
    },
    {
     "name": "stdout",
     "output_type": "stream",
     "text": [
      "✅ Completed company 103700030 - 292772 customers\n"
     ]
    },
    {
     "name": "stderr",
     "output_type": "stream",
     "text": [
      "2025-09-18 19:30:10,114 - INFO - Loaded 4510769 transactions for company 103800030\n",
      "2025-09-18 19:30:28,625 - INFO - Customer data saved to: /Users/batuhansaritas/Desktop/repositories/google-lifetime-value/notebooks/data/processed/customers/customer_level_data_company_103800030.csv\n",
      "2025-09-18 19:30:28,658 - INFO - Processing company 104300040...\n",
      "2025-09-18 19:30:28,658 - INFO - Processing company 104300040\n",
      "2025-09-18 19:30:28,659 - INFO - Loading existing filtered data for company 104300040 from /Users/batuhansaritas/Desktop/repositories/google-lifetime-value/notebooks/data/processed/transactions/transactions_company_104300040.csv\n"
     ]
    },
    {
     "name": "stdout",
     "output_type": "stream",
     "text": [
      "✅ Completed company 103800030 - 260580 customers\n"
     ]
    },
    {
     "name": "stderr",
     "output_type": "stream",
     "text": [
      "2025-09-18 19:30:29,600 - INFO - Loaded 2938314 transactions for company 104300040\n",
      "2025-09-18 19:30:44,076 - INFO - Customer data saved to: /Users/batuhansaritas/Desktop/repositories/google-lifetime-value/notebooks/data/processed/customers/customer_level_data_company_104300040.csv\n",
      "2025-09-18 19:30:44,093 - INFO - Processing company 104400040...\n",
      "2025-09-18 19:30:44,094 - INFO - Processing company 104400040\n",
      "2025-09-18 19:30:44,095 - INFO - Loading existing filtered data for company 104400040 from /Users/batuhansaritas/Desktop/repositories/google-lifetime-value/notebooks/data/processed/transactions/transactions_company_104400040.csv\n"
     ]
    },
    {
     "name": "stdout",
     "output_type": "stream",
     "text": [
      "✅ Completed company 104300040 - 256696 customers\n"
     ]
    },
    {
     "name": "stderr",
     "output_type": "stream",
     "text": [
      "2025-09-18 19:30:45,317 - INFO - Loaded 4133713 transactions for company 104400040\n",
      "2025-09-18 19:31:02,973 - INFO - Customer data saved to: /Users/batuhansaritas/Desktop/repositories/google-lifetime-value/notebooks/data/processed/customers/customer_level_data_company_104400040.csv\n",
      "2025-09-18 19:31:02,992 - INFO - Processing company 104470040...\n",
      "2025-09-18 19:31:02,992 - INFO - Processing company 104470040\n",
      "2025-09-18 19:31:02,993 - INFO - Loading existing filtered data for company 104470040 from /Users/batuhansaritas/Desktop/repositories/google-lifetime-value/notebooks/data/processed/transactions/transactions_company_104470040.csv\n"
     ]
    },
    {
     "name": "stdout",
     "output_type": "stream",
     "text": [
      "✅ Completed company 104400040 - 271857 customers\n"
     ]
    },
    {
     "name": "stderr",
     "output_type": "stream",
     "text": [
      "2025-09-18 19:31:03,757 - INFO - Loaded 2506871 transactions for company 104470040\n",
      "2025-09-18 19:31:15,882 - INFO - Customer data saved to: /Users/batuhansaritas/Desktop/repositories/google-lifetime-value/notebooks/data/processed/customers/customer_level_data_company_104470040.csv\n",
      "2025-09-18 19:31:15,895 - INFO - Processing company 104900040...\n",
      "2025-09-18 19:31:15,896 - INFO - Processing company 104900040\n",
      "2025-09-18 19:31:15,896 - INFO - Loading existing filtered data for company 104900040 from /Users/batuhansaritas/Desktop/repositories/google-lifetime-value/notebooks/data/processed/transactions/transactions_company_104900040.csv\n"
     ]
    },
    {
     "name": "stdout",
     "output_type": "stream",
     "text": [
      "✅ Completed company 104470040 - 227856 customers\n"
     ]
    },
    {
     "name": "stderr",
     "output_type": "stream",
     "text": [
      "2025-09-18 19:31:17,142 - INFO - Loaded 4043374 transactions for company 104900040\n",
      "2025-09-18 19:31:35,424 - INFO - Customer data saved to: /Users/batuhansaritas/Desktop/repositories/google-lifetime-value/notebooks/data/processed/customers/customer_level_data_company_104900040.csv\n",
      "2025-09-18 19:31:35,453 - INFO - Processing company 105100050...\n",
      "2025-09-18 19:31:35,454 - INFO - Processing company 105100050\n",
      "2025-09-18 19:31:35,454 - INFO - Loading existing filtered data for company 105100050 from /Users/batuhansaritas/Desktop/repositories/google-lifetime-value/notebooks/data/processed/transactions/transactions_company_105100050.csv\n"
     ]
    },
    {
     "name": "stdout",
     "output_type": "stream",
     "text": [
      "✅ Completed company 104900040 - 249285 customers\n"
     ]
    },
    {
     "name": "stderr",
     "output_type": "stream",
     "text": [
      "2025-09-18 19:31:36,648 - INFO - Loaded 3689389 transactions for company 105100050\n",
      "2025-09-18 19:31:53,483 - INFO - Customer data saved to: /Users/batuhansaritas/Desktop/repositories/google-lifetime-value/notebooks/data/processed/customers/customer_level_data_company_105100050.csv\n",
      "2025-09-18 19:31:53,503 - INFO - Processing company 105150050...\n",
      "2025-09-18 19:31:53,504 - INFO - Processing company 105150050\n",
      "2025-09-18 19:31:53,504 - INFO - Loading existing filtered data for company 105150050 from /Users/batuhansaritas/Desktop/repositories/google-lifetime-value/notebooks/data/processed/transactions/transactions_company_105150050.csv\n"
     ]
    },
    {
     "name": "stdout",
     "output_type": "stream",
     "text": [
      "✅ Completed company 105100050 - 265019 customers\n"
     ]
    },
    {
     "name": "stderr",
     "output_type": "stream",
     "text": [
      "2025-09-18 19:31:54,119 - INFO - Loaded 1733059 transactions for company 105150050\n",
      "2025-09-18 19:32:04,763 - INFO - Customer data saved to: /Users/batuhansaritas/Desktop/repositories/google-lifetime-value/notebooks/data/processed/customers/customer_level_data_company_105150050.csv\n",
      "2025-09-18 19:32:04,774 - INFO - Processing company 107800070...\n",
      "2025-09-18 19:32:04,775 - INFO - Processing company 107800070\n",
      "2025-09-18 19:32:04,775 - INFO - Loading existing filtered data for company 107800070 from /Users/batuhansaritas/Desktop/repositories/google-lifetime-value/notebooks/data/processed/transactions/transactions_company_107800070.csv\n"
     ]
    },
    {
     "name": "stdout",
     "output_type": "stream",
     "text": [
      "✅ Completed company 105150050 - 242684 customers\n"
     ]
    },
    {
     "name": "stderr",
     "output_type": "stream",
     "text": [
      "2025-09-18 19:32:05,558 - INFO - Loaded 2538320 transactions for company 107800070\n",
      "2025-09-18 19:32:18,253 - INFO - Customer data saved to: /Users/batuhansaritas/Desktop/repositories/google-lifetime-value/notebooks/data/processed/customers/customer_level_data_company_107800070.csv\n"
     ]
    },
    {
     "name": "stdout",
     "output_type": "stream",
     "text": [
      "✅ Completed company 107800070 - 228759 customers\n"
     ]
    },
    {
     "data": {
      "text/html": [
       "<div>\n",
       "<style scoped>\n",
       "    .dataframe tbody tr th:only-of-type {\n",
       "        vertical-align: middle;\n",
       "    }\n",
       "\n",
       "    .dataframe tbody tr th {\n",
       "        vertical-align: top;\n",
       "    }\n",
       "\n",
       "    .dataframe thead th {\n",
       "        text-align: right;\n",
       "    }\n",
       "</style>\n",
       "<table border=\"1\" class=\"dataframe\">\n",
       "  <thead>\n",
       "    <tr style=\"text-align: right;\">\n",
       "      <th></th>\n",
       "      <th>num_customers</th>\n",
       "      <th>avg_calibration_value</th>\n",
       "      <th>avg_holdout_value</th>\n",
       "    </tr>\n",
       "  </thead>\n",
       "  <tbody>\n",
       "    <tr>\n",
       "      <th>10000</th>\n",
       "      <td>234385</td>\n",
       "      <td>4.122605</td>\n",
       "      <td>77.659704</td>\n",
       "    </tr>\n",
       "    <tr>\n",
       "      <th>101200010</th>\n",
       "      <td>230029</td>\n",
       "      <td>5.637354</td>\n",
       "      <td>71.168574</td>\n",
       "    </tr>\n",
       "    <tr>\n",
       "      <th>101410010</th>\n",
       "      <td>226295</td>\n",
       "      <td>4.124539</td>\n",
       "      <td>28.117041</td>\n",
       "    </tr>\n",
       "    <tr>\n",
       "      <th>101600010</th>\n",
       "      <td>278178</td>\n",
       "      <td>5.200163</td>\n",
       "      <td>61.677928</td>\n",
       "    </tr>\n",
       "    <tr>\n",
       "      <th>102100020</th>\n",
       "      <td>277575</td>\n",
       "      <td>4.607076</td>\n",
       "      <td>63.307058</td>\n",
       "    </tr>\n",
       "    <tr>\n",
       "      <th>102700020</th>\n",
       "      <td>230393</td>\n",
       "      <td>3.201437</td>\n",
       "      <td>17.028160</td>\n",
       "    </tr>\n",
       "    <tr>\n",
       "      <th>102840020</th>\n",
       "      <td>278596</td>\n",
       "      <td>5.049738</td>\n",
       "      <td>78.297621</td>\n",
       "    </tr>\n",
       "    <tr>\n",
       "      <th>103000030</th>\n",
       "      <td>235548</td>\n",
       "      <td>4.096042</td>\n",
       "      <td>27.015212</td>\n",
       "    </tr>\n",
       "    <tr>\n",
       "      <th>103338333</th>\n",
       "      <td>264431</td>\n",
       "      <td>3.772390</td>\n",
       "      <td>55.720830</td>\n",
       "    </tr>\n",
       "    <tr>\n",
       "      <th>103400030</th>\n",
       "      <td>264887</td>\n",
       "      <td>4.135925</td>\n",
       "      <td>30.993279</td>\n",
       "    </tr>\n",
       "    <tr>\n",
       "      <th>103600030</th>\n",
       "      <td>225182</td>\n",
       "      <td>6.823931</td>\n",
       "      <td>43.541158</td>\n",
       "    </tr>\n",
       "    <tr>\n",
       "      <th>103700030</th>\n",
       "      <td>292772</td>\n",
       "      <td>9.395683</td>\n",
       "      <td>117.574875</td>\n",
       "    </tr>\n",
       "    <tr>\n",
       "      <th>103800030</th>\n",
       "      <td>260580</td>\n",
       "      <td>5.124936</td>\n",
       "      <td>58.173973</td>\n",
       "    </tr>\n",
       "    <tr>\n",
       "      <th>104300040</th>\n",
       "      <td>256696</td>\n",
       "      <td>4.685713</td>\n",
       "      <td>39.094055</td>\n",
       "    </tr>\n",
       "    <tr>\n",
       "      <th>104400040</th>\n",
       "      <td>271857</td>\n",
       "      <td>4.489148</td>\n",
       "      <td>51.250727</td>\n",
       "    </tr>\n",
       "    <tr>\n",
       "      <th>104470040</th>\n",
       "      <td>227856</td>\n",
       "      <td>5.672789</td>\n",
       "      <td>46.199501</td>\n",
       "    </tr>\n",
       "    <tr>\n",
       "      <th>104900040</th>\n",
       "      <td>249285</td>\n",
       "      <td>5.654114</td>\n",
       "      <td>73.856465</td>\n",
       "    </tr>\n",
       "    <tr>\n",
       "      <th>105100050</th>\n",
       "      <td>265019</td>\n",
       "      <td>4.453489</td>\n",
       "      <td>45.918865</td>\n",
       "    </tr>\n",
       "    <tr>\n",
       "      <th>105150050</th>\n",
       "      <td>242684</td>\n",
       "      <td>4.048100</td>\n",
       "      <td>23.217688</td>\n",
       "    </tr>\n",
       "    <tr>\n",
       "      <th>107800070</th>\n",
       "      <td>228759</td>\n",
       "      <td>4.247738</td>\n",
       "      <td>37.431553</td>\n",
       "    </tr>\n",
       "  </tbody>\n",
       "</table>\n",
       "</div>"
      ],
      "text/plain": [
       "           num_customers  avg_calibration_value  avg_holdout_value\n",
       "10000             234385               4.122605          77.659704\n",
       "101200010         230029               5.637354          71.168574\n",
       "101410010         226295               4.124539          28.117041\n",
       "101600010         278178               5.200163          61.677928\n",
       "102100020         277575               4.607076          63.307058\n",
       "102700020         230393               3.201437          17.028160\n",
       "102840020         278596               5.049738          78.297621\n",
       "103000030         235548               4.096042          27.015212\n",
       "103338333         264431               3.772390          55.720830\n",
       "103400030         264887               4.135925          30.993279\n",
       "103600030         225182               6.823931          43.541158\n",
       "103700030         292772               9.395683         117.574875\n",
       "103800030         260580               5.124936          58.173973\n",
       "104300040         256696               4.685713          39.094055\n",
       "104400040         271857               4.489148          51.250727\n",
       "104470040         227856               5.672789          46.199501\n",
       "104900040         249285               5.654114          73.856465\n",
       "105100050         265019               4.453489          45.918865\n",
       "105150050         242684               4.048100          23.217688\n",
       "107800070         228759               4.247738          37.431553"
      ]
     },
     "metadata": {},
     "output_type": "display_data"
    }
   ],
   "source": [
    "# Process one company at a time with detailed output\n",
    "results = {}\n",
    "\n",
    "for company in COMPANYS:\n",
    "    logger.info(f\"Processing company {company}...\")\n",
    "    try:\n",
    "        # Process the company and get customer-level data\n",
    "        customer_df = process(company)\n",
    "        results[company] = {\n",
    "            \"num_customers\": len(customer_df),\n",
    "            \"avg_calibration_value\": customer_df['calibration_value'].mean(),\n",
    "            \"avg_holdout_value\": customer_df['holdout_value'].mean(),\n",
    "        }\n",
    "        print(f\"✅ Completed company {company} - {len(customer_df)} customers\")\n",
    "    except Exception as e:\n",
    "        logger.error(f\"Error processing company {company}: {str(e)}\")\n",
    "        print(f\"❌ Failed company {company}: {str(e)}\")\n",
    "\n",
    "# Show summary of results\n",
    "summary_df = pd.DataFrame.from_dict(results, orient='index')\n",
    "display(summary_df)"
   ]
  },
  {
   "cell_type": "markdown",
   "metadata": {},
   "source": [
    "## 2. Explore Generated Customer Features"
   ]
  },
  {
   "cell_type": "code",
   "execution_count": 8,
   "metadata": {},
   "outputs": [
    {
     "name": "stdout",
     "output_type": "stream",
     "text": [
      "Found 20 customer files:\n",
      "  - customer_level_data_company_103400030.csv: 14.66 MB\n",
      "  - customer_level_data_company_104400040.csv: 15.24 MB\n",
      "  - customer_level_data_company_103338333.csv: 15.56 MB\n",
      "  - customer_level_data_company_10000.csv: 12.80 MB\n",
      "  - customer_level_data_company_101200010.csv: 13.13 MB\n",
      "  - customer_level_data_company_107800070.csv: 12.90 MB\n",
      "  - customer_level_data_company_105150050.csv: 13.66 MB\n",
      "  - customer_level_data_company_104300040.csv: 14.59 MB\n",
      "  - customer_level_data_company_101410010.csv: 12.53 MB\n",
      "  - customer_level_data_company_104900040.csv: 14.25 MB\n",
      "  - customer_level_data_company_103800030.csv: 14.65 MB\n",
      "  - customer_level_data_company_104470040.csv: 13.08 MB\n",
      "  - customer_level_data_company_102100020.csv: 16.02 MB\n",
      "  - customer_level_data_company_105100050.csv: 15.15 MB\n",
      "  - customer_level_data_company_103700030.csv: 17.18 MB\n",
      "  - customer_level_data_company_103600030.csv: 12.75 MB\n",
      "  - customer_level_data_company_102700020.csv: 12.74 MB\n",
      "  - customer_level_data_company_102840020.csv: 16.17 MB\n",
      "  - customer_level_data_company_103000030.csv: 13.07 MB\n",
      "  - customer_level_data_company_101600010.csv: 15.62 MB\n",
      "\n",
      "Customer data overview:\n"
     ]
    },
    {
     "data": {
      "text/html": [
       "<div>\n",
       "<style scoped>\n",
       "    .dataframe tbody tr th:only-of-type {\n",
       "        vertical-align: middle;\n",
       "    }\n",
       "\n",
       "    .dataframe tbody tr th {\n",
       "        vertical-align: top;\n",
       "    }\n",
       "\n",
       "    .dataframe thead th {\n",
       "        text-align: right;\n",
       "    }\n",
       "</style>\n",
       "<table border=\"1\" class=\"dataframe\">\n",
       "  <thead>\n",
       "    <tr style=\"text-align: right;\">\n",
       "      <th></th>\n",
       "      <th>id</th>\n",
       "      <th>calibration_value</th>\n",
       "      <th>log_calibration_value</th>\n",
       "      <th>holdout_value</th>\n",
       "      <th>chain</th>\n",
       "      <th>dept</th>\n",
       "      <th>category</th>\n",
       "      <th>brand</th>\n",
       "      <th>productmeasure</th>\n",
       "      <th>return_count</th>\n",
       "      <th>label</th>\n",
       "    </tr>\n",
       "  </thead>\n",
       "  <tbody>\n",
       "    <tr>\n",
       "      <th>0</th>\n",
       "      <td>86246</td>\n",
       "      <td>1.89</td>\n",
       "      <td>0.636577</td>\n",
       "      <td>160.17</td>\n",
       "      <td>205</td>\n",
       "      <td>4</td>\n",
       "      <td>416</td>\n",
       "      <td>8247</td>\n",
       "      <td>OZ</td>\n",
       "      <td>0</td>\n",
       "      <td>160.17</td>\n",
       "    </tr>\n",
       "    <tr>\n",
       "      <th>1</th>\n",
       "      <td>86252</td>\n",
       "      <td>0.99</td>\n",
       "      <td>-0.010050</td>\n",
       "      <td>132.41</td>\n",
       "      <td>205</td>\n",
       "      <td>4</td>\n",
       "      <td>416</td>\n",
       "      <td>15113</td>\n",
       "      <td>OZ</td>\n",
       "      <td>0</td>\n",
       "      <td>132.41</td>\n",
       "    </tr>\n",
       "    <tr>\n",
       "      <th>2</th>\n",
       "      <td>12262064</td>\n",
       "      <td>0.24</td>\n",
       "      <td>-1.427116</td>\n",
       "      <td>12.15</td>\n",
       "      <td>95</td>\n",
       "      <td>4</td>\n",
       "      <td>416</td>\n",
       "      <td>12022</td>\n",
       "      <td>OZ</td>\n",
       "      <td>0</td>\n",
       "      <td>12.15</td>\n",
       "    </tr>\n",
       "    <tr>\n",
       "      <th>3</th>\n",
       "      <td>12277270</td>\n",
       "      <td>0.99</td>\n",
       "      <td>-0.010050</td>\n",
       "      <td>0.99</td>\n",
       "      <td>95</td>\n",
       "      <td>4</td>\n",
       "      <td>416</td>\n",
       "      <td>9739</td>\n",
       "      <td>OZ</td>\n",
       "      <td>0</td>\n",
       "      <td>0.99</td>\n",
       "    </tr>\n",
       "    <tr>\n",
       "      <th>4</th>\n",
       "      <td>12332190</td>\n",
       "      <td>3.00</td>\n",
       "      <td>1.098612</td>\n",
       "      <td>49.06</td>\n",
       "      <td>95</td>\n",
       "      <td>4</td>\n",
       "      <td>418</td>\n",
       "      <td>15113</td>\n",
       "      <td>OZ</td>\n",
       "      <td>1</td>\n",
       "      <td>49.06</td>\n",
       "    </tr>\n",
       "  </tbody>\n",
       "</table>\n",
       "</div>"
      ],
      "text/plain": [
       "         id  calibration_value  log_calibration_value  holdout_value  chain  \\\n",
       "0     86246               1.89               0.636577         160.17    205   \n",
       "1     86252               0.99              -0.010050         132.41    205   \n",
       "2  12262064               0.24              -1.427116          12.15     95   \n",
       "3  12277270               0.99              -0.010050           0.99     95   \n",
       "4  12332190               3.00               1.098612          49.06     95   \n",
       "\n",
       "   dept  category  brand productmeasure  return_count   label  \n",
       "0     4       416   8247             OZ             0  160.17  \n",
       "1     4       416  15113             OZ             0  132.41  \n",
       "2     4       416  12022             OZ             0   12.15  \n",
       "3     4       416   9739             OZ             0    0.99  \n",
       "4     4       418  15113             OZ             1   49.06  "
      ]
     },
     "metadata": {},
     "output_type": "display_data"
    },
    {
     "name": "stdout",
     "output_type": "stream",
     "text": [
      "\n",
      "Shape: (264887, 11)\n",
      "Numeric columns: ['id', 'calibration_value', 'log_calibration_value', 'holdout_value', 'chain', 'dept', 'category', 'brand', 'return_count', 'label']\n",
      "Categorical columns: ['productmeasure']\n",
      "\n",
      "Numeric feature statistics:\n"
     ]
    },
    {
     "data": {
      "text/html": [
       "<div>\n",
       "<style scoped>\n",
       "    .dataframe tbody tr th:only-of-type {\n",
       "        vertical-align: middle;\n",
       "    }\n",
       "\n",
       "    .dataframe tbody tr th {\n",
       "        vertical-align: top;\n",
       "    }\n",
       "\n",
       "    .dataframe thead th {\n",
       "        text-align: right;\n",
       "    }\n",
       "</style>\n",
       "<table border=\"1\" class=\"dataframe\">\n",
       "  <thead>\n",
       "    <tr style=\"text-align: right;\">\n",
       "      <th></th>\n",
       "      <th>id</th>\n",
       "      <th>calibration_value</th>\n",
       "      <th>log_calibration_value</th>\n",
       "      <th>holdout_value</th>\n",
       "      <th>chain</th>\n",
       "      <th>dept</th>\n",
       "      <th>category</th>\n",
       "      <th>brand</th>\n",
       "      <th>return_count</th>\n",
       "      <th>label</th>\n",
       "    </tr>\n",
       "  </thead>\n",
       "  <tbody>\n",
       "    <tr>\n",
       "      <th>count</th>\n",
       "      <td>2.648870e+05</td>\n",
       "      <td>264887.000000</td>\n",
       "      <td>264887.000000</td>\n",
       "      <td>264887.000000</td>\n",
       "      <td>264887.000000</td>\n",
       "      <td>264887.000000</td>\n",
       "      <td>264887.000000</td>\n",
       "      <td>264887.000000</td>\n",
       "      <td>264887.000000</td>\n",
       "      <td>264887.000000</td>\n",
       "    </tr>\n",
       "    <tr>\n",
       "      <th>mean</th>\n",
       "      <td>2.043034e+09</td>\n",
       "      <td>4.135925</td>\n",
       "      <td>1.104810</td>\n",
       "      <td>30.993279</td>\n",
       "      <td>153.833691</td>\n",
       "      <td>4.846976</td>\n",
       "      <td>500.041255</td>\n",
       "      <td>13879.026238</td>\n",
       "      <td>0.055005</td>\n",
       "      <td>30.993279</td>\n",
       "    </tr>\n",
       "    <tr>\n",
       "      <th>std</th>\n",
       "      <td>1.596525e+09</td>\n",
       "      <td>5.380760</td>\n",
       "      <td>0.774244</td>\n",
       "      <td>1150.053516</td>\n",
       "      <td>153.798927</td>\n",
       "      <td>3.161908</td>\n",
       "      <td>314.730290</td>\n",
       "      <td>11485.529135</td>\n",
       "      <td>0.643580</td>\n",
       "      <td>1150.053526</td>\n",
       "    </tr>\n",
       "    <tr>\n",
       "      <th>min</th>\n",
       "      <td>8.624600e+04</td>\n",
       "      <td>0.010000</td>\n",
       "      <td>-4.605170</td>\n",
       "      <td>0.000000</td>\n",
       "      <td>2.000000</td>\n",
       "      <td>3.000000</td>\n",
       "      <td>302.000000</td>\n",
       "      <td>0.000000</td>\n",
       "      <td>0.000000</td>\n",
       "      <td>0.000000</td>\n",
       "    </tr>\n",
       "    <tr>\n",
       "      <th>25%</th>\n",
       "      <td>5.411682e+08</td>\n",
       "      <td>1.940000</td>\n",
       "      <td>0.662688</td>\n",
       "      <td>3.500000</td>\n",
       "      <td>31.000000</td>\n",
       "      <td>4.000000</td>\n",
       "      <td>416.000000</td>\n",
       "      <td>8247.000000</td>\n",
       "      <td>0.000000</td>\n",
       "      <td>3.500000</td>\n",
       "    </tr>\n",
       "    <tr>\n",
       "      <th>50%</th>\n",
       "      <td>1.882143e+09</td>\n",
       "      <td>2.990000</td>\n",
       "      <td>1.095273</td>\n",
       "      <td>12.960000</td>\n",
       "      <td>96.000000</td>\n",
       "      <td>4.000000</td>\n",
       "      <td>418.000000</td>\n",
       "      <td>9739.000000</td>\n",
       "      <td>0.000000</td>\n",
       "      <td>12.960000</td>\n",
       "    </tr>\n",
       "    <tr>\n",
       "      <th>75%</th>\n",
       "      <td>3.611128e+09</td>\n",
       "      <td>4.990000</td>\n",
       "      <td>1.607436</td>\n",
       "      <td>31.490000</td>\n",
       "      <td>211.000000</td>\n",
       "      <td>4.000000</td>\n",
       "      <td>418.000000</td>\n",
       "      <td>15113.000000</td>\n",
       "      <td>0.000000</td>\n",
       "      <td>31.490000</td>\n",
       "    </tr>\n",
       "    <tr>\n",
       "      <th>max</th>\n",
       "      <td>4.847629e+09</td>\n",
       "      <td>1340.820000</td>\n",
       "      <td>7.201036</td>\n",
       "      <td>487792.240000</td>\n",
       "      <td>526.000000</td>\n",
       "      <td>97.000000</td>\n",
       "      <td>9753.000000</td>\n",
       "      <td>57369.000000</td>\n",
       "      <td>259.000000</td>\n",
       "      <td>487792.250000</td>\n",
       "    </tr>\n",
       "  </tbody>\n",
       "</table>\n",
       "</div>"
      ],
      "text/plain": [
       "                 id  calibration_value  log_calibration_value  holdout_value  \\\n",
       "count  2.648870e+05      264887.000000          264887.000000  264887.000000   \n",
       "mean   2.043034e+09           4.135925               1.104810      30.993279   \n",
       "std    1.596525e+09           5.380760               0.774244    1150.053516   \n",
       "min    8.624600e+04           0.010000              -4.605170       0.000000   \n",
       "25%    5.411682e+08           1.940000               0.662688       3.500000   \n",
       "50%    1.882143e+09           2.990000               1.095273      12.960000   \n",
       "75%    3.611128e+09           4.990000               1.607436      31.490000   \n",
       "max    4.847629e+09        1340.820000               7.201036  487792.240000   \n",
       "\n",
       "               chain           dept       category          brand  \\\n",
       "count  264887.000000  264887.000000  264887.000000  264887.000000   \n",
       "mean      153.833691       4.846976     500.041255   13879.026238   \n",
       "std       153.798927       3.161908     314.730290   11485.529135   \n",
       "min         2.000000       3.000000     302.000000       0.000000   \n",
       "25%        31.000000       4.000000     416.000000    8247.000000   \n",
       "50%        96.000000       4.000000     418.000000    9739.000000   \n",
       "75%       211.000000       4.000000     418.000000   15113.000000   \n",
       "max       526.000000      97.000000    9753.000000   57369.000000   \n",
       "\n",
       "        return_count          label  \n",
       "count  264887.000000  264887.000000  \n",
       "mean        0.055005      30.993279  \n",
       "std         0.643580    1150.053526  \n",
       "min         0.000000       0.000000  \n",
       "25%         0.000000       3.500000  \n",
       "50%         0.000000      12.960000  \n",
       "75%         0.000000      31.490000  \n",
       "max       259.000000  487792.250000  "
      ]
     },
     "metadata": {},
     "output_type": "display_data"
    }
   ],
   "source": [
    "# Load the generated customer data for exploration\n",
    "processed_dir = repo_root / 'data' / 'processed' / 'customers'\n",
    "customer_files = list(processed_dir.glob('*.csv'))\n",
    "\n",
    "print(f\"Found {len(customer_files)} customer files:\")\n",
    "for file in customer_files:\n",
    "    file_size = os.path.getsize(file) / (1024*1024)  # Convert to MB\n",
    "    print(f\"  - {file.name}: {file_size:.2f} MB\")\n",
    "\n",
    "# Load first customer file for exploration\n",
    "if customer_files:\n",
    "    cust_file = customer_files[0]\n",
    "    cust_df = pd.read_csv(cust_file)\n",
    "    \n",
    "    print(\"\\nCustomer data overview:\")\n",
    "    display(cust_df.head())\n",
    "    \n",
    "    print(f\"\\nShape: {cust_df.shape}\")\n",
    "    print(f\"Numeric columns: {cust_df.select_dtypes(include=['number']).columns.tolist()}\")\n",
    "    print(f\"Categorical columns: {cust_df.select_dtypes(include=['category', 'object']).columns.tolist()}\")\n",
    "    \n",
    "    # Basic statistics\n",
    "    print(\"\\nNumeric feature statistics:\")\n",
    "    display(cust_df.describe())"
   ]
  }
 ],
 "metadata": {
  "kernelspec": {
   "display_name": ".venv",
   "language": "python",
   "name": "python3"
  },
  "language_info": {
   "codemirror_mode": {
    "name": "ipython",
    "version": 3
   },
   "file_extension": ".py",
   "mimetype": "text/x-python",
   "name": "python",
   "nbconvert_exporter": "python",
   "pygments_lexer": "ipython3",
   "version": "3.10.11"
  }
 },
 "nbformat": 4,
 "nbformat_minor": 2
}
