{
 "cells": [
  {
   "cell_type": "markdown",
   "metadata": {},
   "source": [
    "# Data Preprocessing\n",
    "\n",
    "This notebook assumes the Kaggle dataset is downloaded and performs initial preprocessing."
   ]
  },
  {
   "cell_type": "code",
   "execution_count": 26,
   "metadata": {},
   "outputs": [
    {
     "name": "stderr",
     "output_type": "stream",
     "text": [
      "2025-09-18 00:20:03,683 - INFO - Logging initialized. Log file: /Users/batuhansaritas/Desktop/repositories/google-lifetime-value/notebooks/logs/data_preprocessing_2025.09.18_00:20:03.log\n"
     ]
    }
   ],
   "source": [
    "import sys\n",
    "import os\n",
    "import subprocess\n",
    "import pandas as pd\n",
    "import numpy as np\n",
    "import pathlib\n",
    "\n",
    "# Add the src directory to Python path\n",
    "repo_root = pathlib.Path('').resolve()\n",
    "sys.path.append(str(repo_root))\n",
    "\n",
    "from google_lifetime_value.utils.logger import setup_logger\n",
    "from google_lifetime_value.preprocess.preprocess_transactions import load_data\n",
    "\n",
    "# Initialize logger\n",
    "logger = setup_logger('data_preprocessing')"
   ]
  },
  {
   "cell_type": "code",
   "execution_count": 27,
   "metadata": {},
   "outputs": [],
   "source": [
    "# Define companies\n",
    "\n",
    "COMPANYS = [\n",
    "    10000,\n",
    "    ##101200010, 101410010, 101600010, 102100020, 102700020,\n",
    "    ##102840020, 103000030, 103338333, 103400030, 103600030,\n",
    "    ##103700030, 103800030, 104300040, 104400040, 104470040,\n",
    "    ##104900040, 105100050, 105150050, 107800070\n",
    "]"
   ]
  },
  {
   "cell_type": "markdown",
   "metadata": {},
   "source": [
    "## 1. Extract and Process Data by Company"
   ]
  },
  {
   "cell_type": "code",
   "execution_count": 28,
   "metadata": {},
   "outputs": [
    {
     "name": "stderr",
     "output_type": "stream",
     "text": [
      "2025-09-18 00:20:06,565 - INFO - Loading existing filtered data for company 10000 from /Users/batuhansaritas/Desktop/repositories/google-lifetime-value/notebooks/data/processed/transactions/transactions_company_10000.csv\n",
      "2025-09-18 00:20:08,986 - INFO - Loaded 7964915 transactions for company 10000\n",
      "2025-09-18 00:20:08,987 - INFO - Successfully processed company 10000 with 7964915 records\n"
     ]
    },
    {
     "name": "stdout",
     "output_type": "stream",
     "text": [
      "Company 10000: 7964915 records processed\n"
     ]
    }
   ],
   "source": [
    "# Process transactions for each company in parallel\n",
    "from multiprocessing.dummy import Pool as ThreadPool\n",
    "\n",
    "# Function to process and save data for a company\n",
    "def extract_company_data(company):\n",
    "    try:\n",
    "        df = load_data(company)\n",
    "        logger.info(f\"Successfully processed company {company} with {len(df)} records\")\n",
    "        return company, len(df)\n",
    "    except Exception as e:\n",
    "        logger.error(f\"Error processing company {company}: {str(e)}\")\n",
    "        return company, 0\n",
    "\n",
    "# Process in parallel\n",
    "with ThreadPool() as pool:\n",
    "    results = pool.map(extract_company_data, COMPANYS)\n",
    "\n",
    "# Display results\n",
    "for company, count in results:\n",
    "    print(f\"Company {company}: {count} records processed\")"
   ]
  },
  {
   "cell_type": "markdown",
   "metadata": {},
   "source": [
    "## 2. Verify Extracted Data"
   ]
  },
  {
   "cell_type": "code",
   "execution_count": 29,
   "metadata": {},
   "outputs": [
    {
     "name": "stdout",
     "output_type": "stream",
     "text": [
      "Found 20 extracted company files:\n",
      "  - customer_level_data_company_103400030.csv: 14.16 MB\n",
      "  - customer_level_data_company_104400040.csv: 14.72 MB\n",
      "  - customer_level_data_company_103338333.csv: 15.06 MB\n",
      "  - customer_level_data_company_10000.csv: 12.80 MB\n",
      "  - customer_level_data_company_101200010.csv: 12.69 MB\n",
      "  - customer_level_data_company_107800070.csv: 12.47 MB\n",
      "  - customer_level_data_company_105150050.csv: 13.20 MB\n",
      "  - customer_level_data_company_104300040.csv: 14.10 MB\n",
      "  - customer_level_data_company_101410010.csv: 12.10 MB\n",
      "  - customer_level_data_company_104900040.csv: 13.77 MB\n",
      "  - customer_level_data_company_103800030.csv: 14.15 MB\n",
      "  - customer_level_data_company_104470040.csv: 12.65 MB\n",
      "  - customer_level_data_company_102100020.csv: 15.49 MB\n",
      "  - customer_level_data_company_105100050.csv: 14.64 MB\n",
      "  - customer_level_data_company_103700030.csv: 16.63 MB\n",
      "  - customer_level_data_company_103600030.csv: 12.32 MB\n",
      "  - customer_level_data_company_102700020.csv: 12.31 MB\n",
      "  - customer_level_data_company_102840020.csv: 15.64 MB\n",
      "  - customer_level_data_company_103000030.csv: 12.62 MB\n",
      "  - customer_level_data_company_101600010.csv: 15.09 MB\n",
      "\n",
      "Sample data structure:\n"
     ]
    },
    {
     "data": {
      "text/html": [
       "<div>\n",
       "<style scoped>\n",
       "    .dataframe tbody tr th:only-of-type {\n",
       "        vertical-align: middle;\n",
       "    }\n",
       "\n",
       "    .dataframe tbody tr th {\n",
       "        vertical-align: top;\n",
       "    }\n",
       "\n",
       "    .dataframe thead th {\n",
       "        text-align: right;\n",
       "    }\n",
       "</style>\n",
       "<table border=\"1\" class=\"dataframe\">\n",
       "  <thead>\n",
       "    <tr style=\"text-align: right;\">\n",
       "      <th></th>\n",
       "      <th>id</th>\n",
       "      <th>calibration_value</th>\n",
       "      <th>chain</th>\n",
       "      <th>dept</th>\n",
       "      <th>category</th>\n",
       "      <th>brand</th>\n",
       "      <th>productmeasure</th>\n",
       "      <th>holdout_value</th>\n",
       "      <th>log_calibration_value</th>\n",
       "      <th>label</th>\n",
       "    </tr>\n",
       "  </thead>\n",
       "  <tbody>\n",
       "    <tr>\n",
       "      <th>0</th>\n",
       "      <td>86246</td>\n",
       "      <td>1.89</td>\n",
       "      <td>205</td>\n",
       "      <td>4</td>\n",
       "      <td>416</td>\n",
       "      <td>8247</td>\n",
       "      <td>OZ</td>\n",
       "      <td>160.17</td>\n",
       "      <td>0.636577</td>\n",
       "      <td>160.17</td>\n",
       "    </tr>\n",
       "    <tr>\n",
       "      <th>1</th>\n",
       "      <td>86252</td>\n",
       "      <td>0.99</td>\n",
       "      <td>205</td>\n",
       "      <td>4</td>\n",
       "      <td>416</td>\n",
       "      <td>15113</td>\n",
       "      <td>OZ</td>\n",
       "      <td>132.41</td>\n",
       "      <td>-0.010050</td>\n",
       "      <td>132.41</td>\n",
       "    </tr>\n",
       "    <tr>\n",
       "      <th>2</th>\n",
       "      <td>12262064</td>\n",
       "      <td>0.24</td>\n",
       "      <td>95</td>\n",
       "      <td>4</td>\n",
       "      <td>416</td>\n",
       "      <td>12022</td>\n",
       "      <td>OZ</td>\n",
       "      <td>12.15</td>\n",
       "      <td>-1.427116</td>\n",
       "      <td>12.15</td>\n",
       "    </tr>\n",
       "    <tr>\n",
       "      <th>3</th>\n",
       "      <td>12277270</td>\n",
       "      <td>0.99</td>\n",
       "      <td>95</td>\n",
       "      <td>4</td>\n",
       "      <td>416</td>\n",
       "      <td>9739</td>\n",
       "      <td>OZ</td>\n",
       "      <td>0.99</td>\n",
       "      <td>-0.010050</td>\n",
       "      <td>0.99</td>\n",
       "    </tr>\n",
       "    <tr>\n",
       "      <th>4</th>\n",
       "      <td>12332190</td>\n",
       "      <td>3.00</td>\n",
       "      <td>95</td>\n",
       "      <td>4</td>\n",
       "      <td>418</td>\n",
       "      <td>15113</td>\n",
       "      <td>OZ</td>\n",
       "      <td>49.06</td>\n",
       "      <td>1.098612</td>\n",
       "      <td>49.06</td>\n",
       "    </tr>\n",
       "  </tbody>\n",
       "</table>\n",
       "</div>"
      ],
      "text/plain": [
       "         id  calibration_value  chain  dept  category  brand productmeasure  \\\n",
       "0     86246               1.89    205     4       416   8247             OZ   \n",
       "1     86252               0.99    205     4       416  15113             OZ   \n",
       "2  12262064               0.24     95     4       416  12022             OZ   \n",
       "3  12277270               0.99     95     4       416   9739             OZ   \n",
       "4  12332190               3.00     95     4       418  15113             OZ   \n",
       "\n",
       "   holdout_value  log_calibration_value   label  \n",
       "0         160.17               0.636577  160.17  \n",
       "1         132.41              -0.010050  132.41  \n",
       "2          12.15              -1.427116   12.15  \n",
       "3           0.99              -0.010050    0.99  \n",
       "4          49.06               1.098612   49.06  "
      ]
     },
     "metadata": {},
     "output_type": "display_data"
    },
    {
     "name": "stdout",
     "output_type": "stream",
     "text": [
      "Columns: ['id', 'calibration_value', 'chain', 'dept', 'category', 'brand', 'productmeasure', 'holdout_value', 'log_calibration_value', 'label']\n",
      "Shape: (264887, 10)\n"
     ]
    }
   ],
   "source": [
    "# Check the extracted files\n",
    "processed_dir = repo_root / 'data' / 'processed' / 'customers'\n",
    "extracted_files = list(processed_dir.glob('*.csv'))\n",
    "\n",
    "print(f\"Found {len(extracted_files)} extracted company files:\")\n",
    "for file in extracted_files:\n",
    "    file_size = os.path.getsize(file) / (1024*1024)  # Convert to MB\n",
    "    print(f\"  - {file.name}: {file_size:.2f} MB\")\n",
    "\n",
    "# Sample one file to check structure\n",
    "if extracted_files:\n",
    "    sample_file = extracted_files[0]\n",
    "    sample_df = pd.read_csv(sample_file)\n",
    "    print(\"\\nSample data structure:\")\n",
    "    display(sample_df.head())\n",
    "    print(f\"Columns: {sample_df.columns.tolist()}\")\n",
    "    print(f\"Shape: {sample_df.shape}\")"
   ]
  }
 ],
 "metadata": {
  "kernelspec": {
   "display_name": ".venv",
   "language": "python",
   "name": "python3"
  },
  "language_info": {
   "codemirror_mode": {
    "name": "ipython",
    "version": 3
   },
   "file_extension": ".py",
   "mimetype": "text/x-python",
   "name": "python",
   "nbconvert_exporter": "python",
   "pygments_lexer": "ipython3",
   "version": "3.10.11"
  }
 },
 "nbformat": 4,
 "nbformat_minor": 2
}
