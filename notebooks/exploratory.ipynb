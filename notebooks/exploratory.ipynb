{
 "cells": [
  {
   "cell_type": "markdown",
   "metadata": {},
   "source": [
    "import necessary modules"
   ]
  },
  {
   "cell_type": "code",
   "execution_count": 6,
   "metadata": {},
   "outputs": [],
   "source": [
    "import numpy as np\n",
    "import pandas as pd\n",
    "import os\n",
    "import glob\n",
    "import matplotlib.pyplot as plt"
   ]
  },
  {
   "cell_type": "code",
   "execution_count": null,
   "metadata": {},
   "outputs": [],
   "source": [
    "import pathlib \n",
    "import pandas as pd\n",
    "\n",
    "path = pathlib.Path('../').resolve()\n",
    "transactions_path = pd.read_csv(path / 'data' / 'processed' / 'transactions' )\n"
   ]
  },
  {
   "cell_type": "code",
   "execution_count": 27,
   "metadata": {},
   "outputs": [],
   "source": [
    "companies = [\n",
    "    10000, 101200010, 101410010, 101600010, 102100020, 102700020,\n",
    "    102840020, 103000030, 103338333, 103400030, 103600030,\n",
    "    103700030, 103800030, 104300040, 104400040, 104470040,\n",
    "    104900040, 105100050, 105150050, 107800070\n",
    "]\n",
    "\n",
    "\n",
    "trx_data_list = []\n",
    "for company in companies:\n",
    "    trx_data = pd.read_csv(path / 'data' / 'processed' / 'transactions' / f'transactions_company_{company}.csv')\n",
    "    trx_data_list.append(trx_data)\n",
    "\n",
    "trx_data = pd.concat(trx_data_list, axis=0)"
   ]
  },
  {
   "cell_type": "markdown",
   "metadata": {},
   "source": [
    "do all companies share the same chains?"
   ]
  },
  {
   "cell_type": "code",
   "execution_count": 29,
   "metadata": {},
   "outputs": [
    {
     "data": {
      "text/html": [
       "<div>\n",
       "<style scoped>\n",
       "    .dataframe tbody tr th:only-of-type {\n",
       "        vertical-align: middle;\n",
       "    }\n",
       "\n",
       "    .dataframe tbody tr th {\n",
       "        vertical-align: top;\n",
       "    }\n",
       "\n",
       "    .dataframe thead th {\n",
       "        text-align: right;\n",
       "    }\n",
       "</style>\n",
       "<table border=\"1\" class=\"dataframe\">\n",
       "  <thead>\n",
       "    <tr style=\"text-align: right;\">\n",
       "      <th></th>\n",
       "      <th>id</th>\n",
       "      <th>chain</th>\n",
       "      <th>dept</th>\n",
       "      <th>category</th>\n",
       "      <th>company</th>\n",
       "      <th>brand</th>\n",
       "      <th>date</th>\n",
       "      <th>productsize</th>\n",
       "      <th>productmeasure</th>\n",
       "      <th>purchasequantity</th>\n",
       "      <th>purchaseamount</th>\n",
       "    </tr>\n",
       "  </thead>\n",
       "  <tbody>\n",
       "    <tr>\n",
       "      <th>0</th>\n",
       "      <td>86246</td>\n",
       "      <td>205</td>\n",
       "      <td>97</td>\n",
       "      <td>9753</td>\n",
       "      <td>10000</td>\n",
       "      <td>0</td>\n",
       "      <td>2012-03-02</td>\n",
       "      <td>1.0</td>\n",
       "      <td>CT</td>\n",
       "      <td>1</td>\n",
       "      <td>0.69</td>\n",
       "    </tr>\n",
       "    <tr>\n",
       "      <th>1</th>\n",
       "      <td>86246</td>\n",
       "      <td>205</td>\n",
       "      <td>0</td>\n",
       "      <td>0</td>\n",
       "      <td>10000</td>\n",
       "      <td>0</td>\n",
       "      <td>2012-03-06</td>\n",
       "      <td>0.0</td>\n",
       "      <td>NaN</td>\n",
       "      <td>2</td>\n",
       "      <td>-6.69</td>\n",
       "    </tr>\n",
       "    <tr>\n",
       "      <th>2</th>\n",
       "      <td>86246</td>\n",
       "      <td>205</td>\n",
       "      <td>0</td>\n",
       "      <td>0</td>\n",
       "      <td>10000</td>\n",
       "      <td>0</td>\n",
       "      <td>2012-03-17</td>\n",
       "      <td>0.0</td>\n",
       "      <td>NaN</td>\n",
       "      <td>4</td>\n",
       "      <td>5.81</td>\n",
       "    </tr>\n",
       "    <tr>\n",
       "      <th>3</th>\n",
       "      <td>86246</td>\n",
       "      <td>205</td>\n",
       "      <td>0</td>\n",
       "      <td>0</td>\n",
       "      <td>10000</td>\n",
       "      <td>0</td>\n",
       "      <td>2012-03-20</td>\n",
       "      <td>0.0</td>\n",
       "      <td>NaN</td>\n",
       "      <td>1</td>\n",
       "      <td>-0.22</td>\n",
       "    </tr>\n",
       "    <tr>\n",
       "      <th>4</th>\n",
       "      <td>86246</td>\n",
       "      <td>205</td>\n",
       "      <td>0</td>\n",
       "      <td>0</td>\n",
       "      <td>10000</td>\n",
       "      <td>0</td>\n",
       "      <td>2012-03-24</td>\n",
       "      <td>0.0</td>\n",
       "      <td>NaN</td>\n",
       "      <td>1</td>\n",
       "      <td>5.79</td>\n",
       "    </tr>\n",
       "  </tbody>\n",
       "</table>\n",
       "</div>"
      ],
      "text/plain": [
       "      id  chain  dept  category  company  brand        date  productsize  \\\n",
       "0  86246    205    97      9753    10000      0  2012-03-02          1.0   \n",
       "1  86246    205     0         0    10000      0  2012-03-06          0.0   \n",
       "2  86246    205     0         0    10000      0  2012-03-17          0.0   \n",
       "3  86246    205     0         0    10000      0  2012-03-20          0.0   \n",
       "4  86246    205     0         0    10000      0  2012-03-24          0.0   \n",
       "\n",
       "  productmeasure  purchasequantity  purchaseamount  \n",
       "0             CT                 1            0.69  \n",
       "1            NaN                 2           -6.69  \n",
       "2            NaN                 4            5.81  \n",
       "3            NaN                 1           -0.22  \n",
       "4            NaN                 1            5.79  "
      ]
     },
     "execution_count": 29,
     "metadata": {},
     "output_type": "execute_result"
    }
   ],
   "source": [
    "trx_data.head()"
   ]
  },
  {
   "cell_type": "code",
   "execution_count": 55,
   "metadata": {},
   "outputs": [],
   "source": [
    "chains = {}\n",
    "depts = {}\n",
    "categories = {}\n",
    "brands = {}\n",
    "\n",
    "for df in trx_data_list:\n",
    "    company_id = str(df.company.unique()[0])  # Assuming each DataFrame has data from only one company\n",
    "    chains[company_id] = sorted(df.chain.unique().tolist())\n",
    "    depts[company_id] = sorted(df.dept.unique().tolist())\n",
    "    categories[company_id] = sorted(df.category.unique().tolist())\n",
    "    brands[company_id] = sorted(df.brand.unique().tolist())\n"
   ]
  },
  {
   "cell_type": "code",
   "execution_count": 86,
   "metadata": {},
   "outputs": [
    {
     "name": "stdout",
     "output_type": "stream",
     "text": [
      "All companies have the same number of chains: False\n",
      "{'10000': 133, '101200010': 133, '101410010': 132, '101600010': 133, '102100020': 133, '102700020': 133, '102840020': 132, '103000030': 133, '103338333': 123, '103400030': 133, '103600030': 133, '103700030': 134, '103800030': 133, '104300040': 132, '104400040': 133, '104470040': 130, '104900040': 133, '105100050': 132, '105150050': 132, '107800070': 132}\n"
     ]
    }
   ],
   "source": [
    "chain_counts = {company_id: len(chain_list) for company_id, chain_list in chains.items()}\n",
    "\n",
    "\n",
    "same_count = len(set(chain_counts.values())) == 1\n",
    "print(f\"All companies have the same number of chains: {same_count}\")\n",
    "print(f\"{chain_counts}\")\n",
    "\n",
    "all_chains_individual = []\n",
    "for company_id in chains:    \n",
    "    all_chains_individual.append(set(chains[company_id]))\n",
    "\n",
    "intersection = set()\n",
    "for i in range(len(all_chains_individual)):\n",
    "    if i == 0:\n",
    "        intersection = all_chains_individual[i]\n",
    "    else:\n",
    "        intersection = intersection.intersection(all_chains_individual[i])"
   ]
  },
  {
   "cell_type": "code",
   "execution_count": 93,
   "metadata": {},
   "outputs": [
    {
     "name": "stdout",
     "output_type": "stream",
     "text": [
      "Company has 11 unique chains not in the intersection.\n",
      "Company has 11 unique chains not in the intersection.\n",
      "Company has 10 unique chains not in the intersection.\n",
      "Company has 11 unique chains not in the intersection.\n",
      "Company has 11 unique chains not in the intersection.\n",
      "Company has 11 unique chains not in the intersection.\n",
      "Company has 10 unique chains not in the intersection.\n",
      "Company has 11 unique chains not in the intersection.\n",
      "Company has 1 unique chains not in the intersection.\n",
      "Company has 11 unique chains not in the intersection.\n",
      "Company has 11 unique chains not in the intersection.\n",
      "Company has 12 unique chains not in the intersection.\n",
      "Company has 11 unique chains not in the intersection.\n",
      "Company has 10 unique chains not in the intersection.\n",
      "Company has 11 unique chains not in the intersection.\n",
      "Company has 8 unique chains not in the intersection.\n",
      "Company has 11 unique chains not in the intersection.\n",
      "Company has 10 unique chains not in the intersection.\n",
      "Company has 10 unique chains not in the intersection.\n",
      "Company has 10 unique chains not in the intersection.\n"
     ]
    }
   ],
   "source": [
    "for company_id, chain_list in chains.items():\n",
    "    difference = set(chain_list).difference(intersection)\n",
    "    print(f\"Company has {len(difference)} unique chains not in the intersection.\")\n"
   ]
  },
  {
   "cell_type": "markdown",
   "metadata": {},
   "source": [
    "do all companies share the same departments?"
   ]
  },
  {
   "cell_type": "code",
   "execution_count": 94,
   "metadata": {},
   "outputs": [
    {
     "name": "stdout",
     "output_type": "stream",
     "text": [
      "All companies have the same number of departments: False\n",
      "{'10000': 5, '101200010': 6, '101410010': 2, '101600010': 14, '102100020': 13, '102700020': 7, '102840020': 7, '103000030': 10, '103338333': 15, '103400030': 9, '103600030': 10, '103700030': 17, '103800030': 11, '104300040': 18, '104400040': 6, '104470040': 5, '104900040': 4, '105100050': 14, '105150050': 14, '107800070': 5}\n",
      "Number of departments in the intersection: 0\n",
      "Common departments across all companies: []\n"
     ]
    }
   ],
   "source": [
    "dept_counts = {company_id: len(dept_list) for company_id, dept_list in depts.items()}\n",
    "\n",
    "same_dept_count = len(set(dept_counts.values())) == 1\n",
    "print(f\"All companies have the same number of departments: {same_dept_count}\")\n",
    "print(f\"{dept_counts}\")\n",
    "\n",
    "all_depts_individual = []\n",
    "for company_id in depts:    \n",
    "    all_depts_individual.append(set(depts[company_id]))\n",
    "\n",
    "dept_intersection = set()\n",
    "for i in range(len(all_depts_individual)):\n",
    "    if i == 0:\n",
    "        dept_intersection = all_depts_individual[i]\n",
    "    else:\n",
    "        dept_intersection = dept_intersection.intersection(all_depts_individual[i])\n",
    "\n",
    "print(f\"Number of departments in the intersection: {len(dept_intersection)}\")\n",
    "print(f\"Common departments across all companies: {sorted(list(dept_intersection))}\")"
   ]
  },
  {
   "cell_type": "markdown",
   "metadata": {},
   "source": [
    "do all companies share the same brands?"
   ]
  },
  {
   "cell_type": "code",
   "execution_count": 95,
   "metadata": {},
   "outputs": [
    {
     "name": "stdout",
     "output_type": "stream",
     "text": [
      "All companies have the same number of brands: False\n",
      "{'10000': 7, '101200010': 26, '101410010': 2, '101600010': 48, '102100020': 14, '102700020': 11, '102840020': 35, '103000030': 18, '103338333': 28, '103400030': 30, '103600030': 17, '103700030': 49, '103800030': 30, '104300040': 39, '104400040': 33, '104470040': 3, '104900040': 24, '105100050': 11, '105150050': 16, '107800070': 22}\n",
      "Number of brands in the intersection: 0\n",
      "Common brands across all companies: []\n"
     ]
    }
   ],
   "source": [
    "brand_counts = {company_id: len(brand_list) for company_id, brand_list in brands.items()}\n",
    "\n",
    "same_brand_count = len(set(brand_counts.values())) == 1\n",
    "print(f\"All companies have the same number of brands: {same_brand_count}\")\n",
    "print(f\"{brand_counts}\")\n",
    "\n",
    "all_brands_individual = []\n",
    "for company_id in brands:    \n",
    "    all_brands_individual.append(set(brands[company_id]))\n",
    "\n",
    "brand_intersection = set()\n",
    "for i in range(len(all_brands_individual)):\n",
    "    if i == 0:\n",
    "        brand_intersection = all_brands_individual[i]\n",
    "    else:\n",
    "        brand_intersection = brand_intersection.intersection(all_brands_individual[i])\n",
    "\n",
    "print(f\"Number of brands in the intersection: {len(brand_intersection)}\")\n",
    "print(f\"Common brands across all companies: {sorted(list(brand_intersection))}\")"
   ]
  }
 ],
 "metadata": {
  "kernelspec": {
   "display_name": ".venv",
   "language": "python",
   "name": "python3"
  },
  "language_info": {
   "codemirror_mode": {
    "name": "ipython",
    "version": 3
   },
   "file_extension": ".py",
   "mimetype": "text/x-python",
   "name": "python",
   "nbconvert_exporter": "python",
   "pygments_lexer": "ipython3",
   "version": "3.10.11"
  }
 },
 "nbformat": 4,
 "nbformat_minor": 2
}
